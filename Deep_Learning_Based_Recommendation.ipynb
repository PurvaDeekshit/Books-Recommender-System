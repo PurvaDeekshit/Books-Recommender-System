{
 "cells": [
  {
   "cell_type": "code",
   "execution_count": 1,
   "metadata": {},
   "outputs": [
    {
     "name": "stderr",
     "output_type": "stream",
     "text": [
      "Using TensorFlow backend.\n"
     ]
    }
   ],
   "source": [
    "import pandas as pd\n",
    "from keras.models import load_model\n",
    "from sklearn.model_selection import train_test_split\n",
    "from keras.layers import Input, Embedding, Flatten, Dot, Dense, Concatenate\n",
    "from keras.models import Model\n",
    "import matplotlib.pyplot as plt\n",
    "%matplotlib inline\n",
    "import pickle"
   ]
  },
  {
   "cell_type": "code",
   "execution_count": 2,
   "metadata": {},
   "outputs": [],
   "source": [
    "reviews_dataset = pd.read_pickle('reviews.pkl')"
   ]
  },
  {
   "cell_type": "code",
   "execution_count": 3,
   "metadata": {},
   "outputs": [
    {
     "data": {
      "text/plain": [
       "(103930, 5)"
      ]
     },
     "execution_count": 3,
     "metadata": {},
     "output_type": "execute_result"
    }
   ],
   "source": [
    "reviews_dataset.shape"
   ]
  },
  {
   "cell_type": "code",
   "execution_count": 4,
   "metadata": {},
   "outputs": [
    {
     "data": {
      "text/html": [
       "<div>\n",
       "<style scoped>\n",
       "    .dataframe tbody tr th:only-of-type {\n",
       "        vertical-align: middle;\n",
       "    }\n",
       "\n",
       "    .dataframe tbody tr th {\n",
       "        vertical-align: top;\n",
       "    }\n",
       "\n",
       "    .dataframe thead th {\n",
       "        text-align: right;\n",
       "    }\n",
       "</style>\n",
       "<table border=\"1\" class=\"dataframe\">\n",
       "  <thead>\n",
       "    <tr style=\"text-align: right;\">\n",
       "      <th></th>\n",
       "      <th>isbn</th>\n",
       "      <th>user_id</th>\n",
       "      <th>user_name</th>\n",
       "      <th>user_ratings</th>\n",
       "      <th>user_review_text</th>\n",
       "    </tr>\n",
       "  </thead>\n",
       "  <tbody>\n",
       "    <tr>\n",
       "      <th>0</th>\n",
       "      <td>9780321948540</td>\n",
       "      <td>779608</td>\n",
       "      <td>Erin</td>\n",
       "      <td>4.0</td>\n",
       "      <td>There are a lot of great tips in this volume, ...</td>\n",
       "    </tr>\n",
       "    <tr>\n",
       "      <th>1</th>\n",
       "      <td>9780321948540</td>\n",
       "      <td>753824</td>\n",
       "      <td>Rolf Häsänen</td>\n",
       "      <td>4.0</td>\n",
       "      <td>Not as many useful tips as volume1 unless you ...</td>\n",
       "    </tr>\n",
       "    <tr>\n",
       "      <th>2</th>\n",
       "      <td>9780321948540</td>\n",
       "      <td>35798331</td>\n",
       "      <td>Valery</td>\n",
       "      <td>4.0</td>\n",
       "      <td>Not as helpful as the first, but does go into ...</td>\n",
       "    </tr>\n",
       "    <tr>\n",
       "      <th>3</th>\n",
       "      <td>9780321948540</td>\n",
       "      <td>2100772</td>\n",
       "      <td>Bruce</td>\n",
       "      <td>1.0</td>\n",
       "      <td>OMG. Surely the absolute worst, amature photo ...</td>\n",
       "    </tr>\n",
       "    <tr>\n",
       "      <th>4</th>\n",
       "      <td>9780321948540</td>\n",
       "      <td>1794100</td>\n",
       "      <td>Icepick</td>\n",
       "      <td>5.0</td>\n",
       "      <td>The format may not be for everybody, but I rea...</td>\n",
       "    </tr>\n",
       "  </tbody>\n",
       "</table>\n",
       "</div>"
      ],
      "text/plain": [
       "            isbn   user_id     user_name  user_ratings  \\\n",
       "0  9780321948540    779608          Erin           4.0   \n",
       "1  9780321948540    753824  Rolf Häsänen           4.0   \n",
       "2  9780321948540  35798331        Valery           4.0   \n",
       "3  9780321948540   2100772         Bruce           1.0   \n",
       "4  9780321948540   1794100       Icepick           5.0   \n",
       "\n",
       "                                    user_review_text  \n",
       "0  There are a lot of great tips in this volume, ...  \n",
       "1  Not as many useful tips as volume1 unless you ...  \n",
       "2  Not as helpful as the first, but does go into ...  \n",
       "3  OMG. Surely the absolute worst, amature photo ...  \n",
       "4  The format may not be for everybody, but I rea...  "
      ]
     },
     "execution_count": 4,
     "metadata": {},
     "output_type": "execute_result"
    }
   ],
   "source": [
    "reviews_dataset.head(5)"
   ]
  },
  {
   "cell_type": "code",
   "execution_count": 5,
   "metadata": {},
   "outputs": [],
   "source": [
    "reviews_dataset.drop(columns=['user_name','user_review_text'],inplace=True)"
   ]
  },
  {
   "cell_type": "code",
   "execution_count": 6,
   "metadata": {},
   "outputs": [
    {
     "data": {
      "text/plain": [
       "isbn                0\n",
       "user_id         55729\n",
       "user_ratings    55729\n",
       "dtype: int64"
      ]
     },
     "execution_count": 6,
     "metadata": {},
     "output_type": "execute_result"
    }
   ],
   "source": [
    "reviews_dataset.isnull().sum()"
   ]
  },
  {
   "cell_type": "code",
   "execution_count": 7,
   "metadata": {},
   "outputs": [],
   "source": [
    "reviews_dataset.dropna(inplace=True)"
   ]
  },
  {
   "cell_type": "code",
   "execution_count": 8,
   "metadata": {},
   "outputs": [
    {
     "data": {
      "text/plain": [
       "(48201, 3)"
      ]
     },
     "execution_count": 8,
     "metadata": {},
     "output_type": "execute_result"
    }
   ],
   "source": [
    "reviews_dataset.shape"
   ]
  },
  {
   "cell_type": "code",
   "execution_count": 9,
   "metadata": {},
   "outputs": [
    {
     "data": {
      "text/html": [
       "<div>\n",
       "<style scoped>\n",
       "    .dataframe tbody tr th:only-of-type {\n",
       "        vertical-align: middle;\n",
       "    }\n",
       "\n",
       "    .dataframe tbody tr th {\n",
       "        vertical-align: top;\n",
       "    }\n",
       "\n",
       "    .dataframe thead th {\n",
       "        text-align: right;\n",
       "    }\n",
       "</style>\n",
       "<table border=\"1\" class=\"dataframe\">\n",
       "  <thead>\n",
       "    <tr style=\"text-align: right;\">\n",
       "      <th></th>\n",
       "      <th>isbn</th>\n",
       "      <th>user_id</th>\n",
       "      <th>user_ratings</th>\n",
       "    </tr>\n",
       "  </thead>\n",
       "  <tbody>\n",
       "    <tr>\n",
       "      <th>0</th>\n",
       "      <td>9780321948540</td>\n",
       "      <td>779608</td>\n",
       "      <td>4.0</td>\n",
       "    </tr>\n",
       "    <tr>\n",
       "      <th>1</th>\n",
       "      <td>9780321948540</td>\n",
       "      <td>753824</td>\n",
       "      <td>4.0</td>\n",
       "    </tr>\n",
       "    <tr>\n",
       "      <th>2</th>\n",
       "      <td>9780321948540</td>\n",
       "      <td>35798331</td>\n",
       "      <td>4.0</td>\n",
       "    </tr>\n",
       "    <tr>\n",
       "      <th>3</th>\n",
       "      <td>9780321948540</td>\n",
       "      <td>2100772</td>\n",
       "      <td>1.0</td>\n",
       "    </tr>\n",
       "    <tr>\n",
       "      <th>4</th>\n",
       "      <td>9780321948540</td>\n",
       "      <td>1794100</td>\n",
       "      <td>5.0</td>\n",
       "    </tr>\n",
       "  </tbody>\n",
       "</table>\n",
       "</div>"
      ],
      "text/plain": [
       "            isbn   user_id  user_ratings\n",
       "0  9780321948540    779608           4.0\n",
       "1  9780321948540    753824           4.0\n",
       "2  9780321948540  35798331           4.0\n",
       "3  9780321948540   2100772           1.0\n",
       "4  9780321948540   1794100           5.0"
      ]
     },
     "execution_count": 9,
     "metadata": {},
     "output_type": "execute_result"
    }
   ],
   "source": [
    "reviews_dataset.head(5)"
   ]
  },
  {
   "cell_type": "code",
   "execution_count": 10,
   "metadata": {},
   "outputs": [],
   "source": [
    "uniq_isbn = reviews_dataset.isbn.unique()"
   ]
  },
  {
   "cell_type": "code",
   "execution_count": 11,
   "metadata": {},
   "outputs": [],
   "source": [
    "isbn_dict = {uniq_isbn[i] : i+1 for i in range(0, len(uniq_isbn) ) }"
   ]
  },
  {
   "cell_type": "code",
   "execution_count": 12,
   "metadata": {},
   "outputs": [],
   "source": [
    "reviews_dataset.replace({\"isbn\": isbn_dict},inplace=True) "
   ]
  },
  {
   "cell_type": "code",
   "execution_count": 13,
   "metadata": {},
   "outputs": [],
   "source": [
    "uniq_user = reviews_dataset.user_id.unique()"
   ]
  },
  {
   "cell_type": "code",
   "execution_count": 14,
   "metadata": {},
   "outputs": [],
   "source": [
    "user_dict = {uniq_user[i] : i+1 for i in range(0, len(uniq_user) ) }"
   ]
  },
  {
   "cell_type": "code",
   "execution_count": 15,
   "metadata": {},
   "outputs": [],
   "source": [
    "reviews_dataset.replace({\"user_id\": user_dict},inplace=True) "
   ]
  },
  {
   "cell_type": "code",
   "execution_count": 16,
   "metadata": {},
   "outputs": [
    {
     "data": {
      "text/html": [
       "<div>\n",
       "<style scoped>\n",
       "    .dataframe tbody tr th:only-of-type {\n",
       "        vertical-align: middle;\n",
       "    }\n",
       "\n",
       "    .dataframe tbody tr th {\n",
       "        vertical-align: top;\n",
       "    }\n",
       "\n",
       "    .dataframe thead th {\n",
       "        text-align: right;\n",
       "    }\n",
       "</style>\n",
       "<table border=\"1\" class=\"dataframe\">\n",
       "  <thead>\n",
       "    <tr style=\"text-align: right;\">\n",
       "      <th></th>\n",
       "      <th>isbn</th>\n",
       "      <th>user_id</th>\n",
       "      <th>user_ratings</th>\n",
       "    </tr>\n",
       "  </thead>\n",
       "  <tbody>\n",
       "    <tr>\n",
       "      <th>0</th>\n",
       "      <td>1</td>\n",
       "      <td>1</td>\n",
       "      <td>4.0</td>\n",
       "    </tr>\n",
       "    <tr>\n",
       "      <th>1</th>\n",
       "      <td>1</td>\n",
       "      <td>2</td>\n",
       "      <td>4.0</td>\n",
       "    </tr>\n",
       "    <tr>\n",
       "      <th>2</th>\n",
       "      <td>1</td>\n",
       "      <td>3</td>\n",
       "      <td>4.0</td>\n",
       "    </tr>\n",
       "    <tr>\n",
       "      <th>3</th>\n",
       "      <td>1</td>\n",
       "      <td>4</td>\n",
       "      <td>1.0</td>\n",
       "    </tr>\n",
       "    <tr>\n",
       "      <th>4</th>\n",
       "      <td>1</td>\n",
       "      <td>5</td>\n",
       "      <td>5.0</td>\n",
       "    </tr>\n",
       "  </tbody>\n",
       "</table>\n",
       "</div>"
      ],
      "text/plain": [
       "   isbn  user_id  user_ratings\n",
       "0     1        1           4.0\n",
       "1     1        2           4.0\n",
       "2     1        3           4.0\n",
       "3     1        4           1.0\n",
       "4     1        5           5.0"
      ]
     },
     "execution_count": 16,
     "metadata": {},
     "output_type": "execute_result"
    }
   ],
   "source": [
    "reviews_dataset.head()"
   ]
  },
  {
   "cell_type": "code",
   "execution_count": 17,
   "metadata": {},
   "outputs": [],
   "source": [
    "train_data, test_data = train_test_split(reviews_dataset, test_size=0.2, random_state=42)"
   ]
  },
  {
   "cell_type": "code",
   "execution_count": 18,
   "metadata": {},
   "outputs": [
    {
     "data": {
      "text/html": [
       "<div>\n",
       "<style scoped>\n",
       "    .dataframe tbody tr th:only-of-type {\n",
       "        vertical-align: middle;\n",
       "    }\n",
       "\n",
       "    .dataframe tbody tr th {\n",
       "        vertical-align: top;\n",
       "    }\n",
       "\n",
       "    .dataframe thead th {\n",
       "        text-align: right;\n",
       "    }\n",
       "</style>\n",
       "<table border=\"1\" class=\"dataframe\">\n",
       "  <thead>\n",
       "    <tr style=\"text-align: right;\">\n",
       "      <th></th>\n",
       "      <th>isbn</th>\n",
       "      <th>user_id</th>\n",
       "      <th>user_ratings</th>\n",
       "    </tr>\n",
       "  </thead>\n",
       "  <tbody>\n",
       "    <tr>\n",
       "      <th>44027</th>\n",
       "      <td>1130</td>\n",
       "      <td>14273</td>\n",
       "      <td>5.0</td>\n",
       "    </tr>\n",
       "    <tr>\n",
       "      <th>73502</th>\n",
       "      <td>1904</td>\n",
       "      <td>22318</td>\n",
       "      <td>5.0</td>\n",
       "    </tr>\n",
       "    <tr>\n",
       "      <th>29611</th>\n",
       "      <td>719</td>\n",
       "      <td>8553</td>\n",
       "      <td>5.0</td>\n",
       "    </tr>\n",
       "    <tr>\n",
       "      <th>13919</th>\n",
       "      <td>306</td>\n",
       "      <td>3427</td>\n",
       "      <td>4.0</td>\n",
       "    </tr>\n",
       "    <tr>\n",
       "      <th>18143</th>\n",
       "      <td>398</td>\n",
       "      <td>4203</td>\n",
       "      <td>4.0</td>\n",
       "    </tr>\n",
       "  </tbody>\n",
       "</table>\n",
       "</div>"
      ],
      "text/plain": [
       "       isbn  user_id  user_ratings\n",
       "44027  1130    14273           5.0\n",
       "73502  1904    22318           5.0\n",
       "29611   719     8553           5.0\n",
       "13919   306     3427           4.0\n",
       "18143   398     4203           4.0"
      ]
     },
     "execution_count": 18,
     "metadata": {},
     "output_type": "execute_result"
    }
   ],
   "source": [
    "train_data.head()"
   ]
  },
  {
   "cell_type": "code",
   "execution_count": 19,
   "metadata": {},
   "outputs": [
    {
     "data": {
      "text/html": [
       "<div>\n",
       "<style scoped>\n",
       "    .dataframe tbody tr th:only-of-type {\n",
       "        vertical-align: middle;\n",
       "    }\n",
       "\n",
       "    .dataframe tbody tr th {\n",
       "        vertical-align: top;\n",
       "    }\n",
       "\n",
       "    .dataframe thead th {\n",
       "        text-align: right;\n",
       "    }\n",
       "</style>\n",
       "<table border=\"1\" class=\"dataframe\">\n",
       "  <thead>\n",
       "    <tr style=\"text-align: right;\">\n",
       "      <th></th>\n",
       "      <th>isbn</th>\n",
       "      <th>user_id</th>\n",
       "      <th>user_ratings</th>\n",
       "    </tr>\n",
       "  </thead>\n",
       "  <tbody>\n",
       "    <tr>\n",
       "      <th>26190</th>\n",
       "      <td>611</td>\n",
       "      <td>7006</td>\n",
       "      <td>3.0</td>\n",
       "    </tr>\n",
       "    <tr>\n",
       "      <th>60771</th>\n",
       "      <td>1556</td>\n",
       "      <td>8022</td>\n",
       "      <td>2.0</td>\n",
       "    </tr>\n",
       "    <tr>\n",
       "      <th>42023</th>\n",
       "      <td>1069</td>\n",
       "      <td>13111</td>\n",
       "      <td>4.0</td>\n",
       "    </tr>\n",
       "    <tr>\n",
       "      <th>7442</th>\n",
       "      <td>155</td>\n",
       "      <td>1240</td>\n",
       "      <td>1.0</td>\n",
       "    </tr>\n",
       "    <tr>\n",
       "      <th>93967</th>\n",
       "      <td>2387</td>\n",
       "      <td>27240</td>\n",
       "      <td>5.0</td>\n",
       "    </tr>\n",
       "  </tbody>\n",
       "</table>\n",
       "</div>"
      ],
      "text/plain": [
       "       isbn  user_id  user_ratings\n",
       "26190   611     7006           3.0\n",
       "60771  1556     8022           2.0\n",
       "42023  1069    13111           4.0\n",
       "7442    155     1240           1.0\n",
       "93967  2387    27240           5.0"
      ]
     },
     "execution_count": 19,
     "metadata": {},
     "output_type": "execute_result"
    }
   ],
   "source": [
    "test_data.head()"
   ]
  },
  {
   "cell_type": "code",
   "execution_count": 20,
   "metadata": {},
   "outputs": [
    {
     "name": "stdout",
     "output_type": "stream",
     "text": [
      "WARNING:tensorflow:From /Users/sameerdeekshit/anaconda3/lib/python3.7/site-packages/tensorflow/python/framework/op_def_library.py:263: colocate_with (from tensorflow.python.framework.ops) is deprecated and will be removed in a future version.\n",
      "Instructions for updating:\n",
      "Colocations handled automatically by placer.\n"
     ]
    }
   ],
   "source": [
    "#Build keras model\n",
    "books_shape = Input(shape=[1])\n",
    "books_data = Embedding(len(reviews_dataset.isbn.unique())+1, 5)(books_shape)\n",
    "books = Flatten()(books_data)\n",
    "users_shape = Input(shape=[1])\n",
    "users_data = Embedding(len(reviews_dataset.user_id.unique())+1, 5)(users_shape)\n",
    "users = Flatten()(users_data)\n",
    "books_users = Concatenate()([books, users])\n",
    "books_conn_user = Dense(64, activation='relu')(books_users)\n",
    "rating = Dense(1)(books_conn_user)\n",
    "deepmodel = Model([users_shape, books_shape], rating)\n",
    "deepmodel.compile('adam', 'mean_squared_error',metrics=['accuracy'])"
   ]
  },
  {
   "cell_type": "code",
   "execution_count": 21,
   "metadata": {},
   "outputs": [
    {
     "name": "stdout",
     "output_type": "stream",
     "text": [
      "WARNING:tensorflow:From /Users/sameerdeekshit/anaconda3/lib/python3.7/site-packages/tensorflow/python/ops/math_ops.py:3066: to_int32 (from tensorflow.python.ops.math_ops) is deprecated and will be removed in a future version.\n",
      "Instructions for updating:\n",
      "Use tf.cast instead.\n",
      "Epoch 1/75\n",
      "38560/38560 [==============================] - 8s 200us/step - loss: 2.7457 - acc: 0.2688\n",
      "Epoch 2/75\n",
      "38560/38560 [==============================] - 7s 189us/step - loss: 0.9897 - acc: 0.4613\n",
      "Epoch 3/75\n",
      "38560/38560 [==============================] - ETA: 0s - loss: 0.5595 - acc: 0.629 - 7s 191us/step - loss: 0.5596 - acc: 0.6291\n",
      "Epoch 4/75\n",
      "38560/38560 [==============================] - 7s 186us/step - loss: 0.4238 - acc: 0.7141\n",
      "Epoch 5/75\n",
      "38560/38560 [==============================] - 7s 192us/step - loss: 0.3684 - acc: 0.7515\n",
      "Epoch 6/75\n",
      "38560/38560 [==============================] - 7s 188us/step - loss: 0.3436 - acc: 0.7670\n",
      "Epoch 7/75\n",
      "38560/38560 [==============================] - 8s 199us/step - loss: 0.3247 - acc: 0.7799\n",
      "Epoch 8/75\n",
      "38560/38560 [==============================] - 7s 187us/step - loss: 0.3097 - acc: 0.7867\n",
      "Epoch 9/75\n",
      "38560/38560 [==============================] - 8s 204us/step - loss: 0.2941 - acc: 0.7953\n",
      "Epoch 10/75\n",
      "38560/38560 [==============================] - 8s 197us/step - loss: 0.2784 - acc: 0.8057\n",
      "Epoch 11/75\n",
      "38560/38560 [==============================] - 7s 194us/step - loss: 0.2629 - acc: 0.8134\n",
      "Epoch 12/75\n",
      "38560/38560 [==============================] - 8s 211us/step - loss: 0.2482 - acc: 0.8232\n",
      "Epoch 13/75\n",
      "38560/38560 [==============================] - 8s 200us/step - loss: 0.2334 - acc: 0.8331\n",
      "Epoch 14/75\n",
      "38560/38560 [==============================] - 7s 192us/step - loss: 0.2200 - acc: 0.8409\n",
      "Epoch 15/75\n",
      "38560/38560 [==============================] - 7s 192us/step - loss: 0.2085 - acc: 0.8491\n",
      "Epoch 16/75\n",
      "38560/38560 [==============================] - 8s 198us/step - loss: 0.1983 - acc: 0.8571\n",
      "Epoch 17/75\n",
      "38560/38560 [==============================] - 7s 193us/step - loss: 0.1879 - acc: 0.8638\n",
      "Epoch 18/75\n",
      "38560/38560 [==============================] - 8s 199us/step - loss: 0.1783 - acc: 0.8712\n",
      "Epoch 19/75\n",
      "38560/38560 [==============================] - 8s 196us/step - loss: 0.1696 - acc: 0.8775\n",
      "Epoch 20/75\n",
      "38560/38560 [==============================] - 8s 199us/step - loss: 0.1621 - acc: 0.8827\n",
      "Epoch 21/75\n",
      "38560/38560 [==============================] - 8s 195us/step - loss: 0.1555 - acc: 0.8860\n",
      "Epoch 22/75\n",
      "38560/38560 [==============================] - 8s 200us/step - loss: 0.1480 - acc: 0.8906\n",
      "Epoch 23/75\n",
      "38560/38560 [==============================] - 8s 195us/step - loss: 0.1419 - acc: 0.8981\n",
      "Epoch 24/75\n",
      "38560/38560 [==============================] - 8s 201us/step - loss: 0.1352 - acc: 0.9015\n",
      "Epoch 25/75\n",
      "38560/38560 [==============================] - 8s 196us/step - loss: 0.1303 - acc: 0.9034\n",
      "Epoch 26/75\n",
      "38560/38560 [==============================] - 8s 202us/step - loss: 0.1253 - acc: 0.9076\n",
      "Epoch 27/75\n",
      "38560/38560 [==============================] - 8s 196us/step - loss: 0.1199 - acc: 0.9120\n",
      "Epoch 28/75\n",
      "38560/38560 [==============================] - 8s 203us/step - loss: 0.1155 - acc: 0.9149\n",
      "Epoch 29/75\n",
      "38560/38560 [==============================] - 8s 199us/step - loss: 0.1123 - acc: 0.9188\n",
      "Epoch 30/75\n",
      "38560/38560 [==============================] - 8s 201us/step - loss: 0.1077 - acc: 0.9197\n",
      "Epoch 31/75\n",
      "38560/38560 [==============================] - 8s 197us/step - loss: 0.1035 - acc: 0.9250\n",
      "Epoch 32/75\n",
      "38560/38560 [==============================] - 8s 209us/step - loss: 0.0998 - acc: 0.9270\n",
      "Epoch 33/75\n",
      "38560/38560 [==============================] - 8s 198us/step - loss: 0.0964 - acc: 0.9297\n",
      "Epoch 34/75\n",
      "38560/38560 [==============================] - 8s 205us/step - loss: 0.0938 - acc: 0.9311\n",
      "Epoch 35/75\n",
      "38560/38560 [==============================] - 8s 199us/step - loss: 0.0906 - acc: 0.9355\n",
      "Epoch 36/75\n",
      "38560/38560 [==============================] - 8s 200us/step - loss: 0.0881 - acc: 0.9360\n",
      "Epoch 37/75\n",
      "38560/38560 [==============================] - 8s 205us/step - loss: 0.0857 - acc: 0.9387\n",
      "Epoch 38/75\n",
      "38560/38560 [==============================] - 8s 205us/step - loss: 0.0830 - acc: 0.9406\n",
      "Epoch 39/75\n",
      "38560/38560 [==============================] - 8s 200us/step - loss: 0.0802 - acc: 0.9438\n",
      "Epoch 40/75\n",
      "38560/38560 [==============================] - 8s 200us/step - loss: 0.0787 - acc: 0.9457\n",
      "Epoch 41/75\n",
      "38560/38560 [==============================] - 8s 205us/step - loss: 0.0764 - acc: 0.9454\n",
      "Epoch 42/75\n",
      "38560/38560 [==============================] - 8s 207us/step - loss: 0.0741 - acc: 0.9490\n",
      "Epoch 43/75\n",
      "38560/38560 [==============================] - 8s 201us/step - loss: 0.0724 - acc: 0.9489\n",
      "Epoch 44/75\n",
      "38560/38560 [==============================] - 8s 204us/step - loss: 0.0708 - acc: 0.9510 0s - loss: 0.\n",
      "Epoch 45/75\n",
      "38560/38560 [==============================] - 8s 208us/step - loss: 0.0686 - acc: 0.9525\n",
      "Epoch 46/75\n",
      "38560/38560 [==============================] - 8s 202us/step - loss: 0.0664 - acc: 0.9533\n",
      "Epoch 47/75\n",
      "38560/38560 [==============================] - 8s 206us/step - loss: 0.0648 - acc: 0.9563\n",
      "Epoch 48/75\n",
      "38560/38560 [==============================] - 8s 208us/step - loss: 0.0635 - acc: 0.9566\n",
      "Epoch 49/75\n",
      "38560/38560 [==============================] - 8s 203us/step - loss: 0.0619 - acc: 0.9578\n",
      "Epoch 50/75\n",
      "38560/38560 [==============================] - 8s 203us/step - loss: 0.0608 - acc: 0.9586\n",
      "Epoch 51/75\n",
      "38560/38560 [==============================] - 8s 203us/step - loss: 0.0588 - acc: 0.9598\n",
      "Epoch 52/75\n",
      "38560/38560 [==============================] - 8s 199us/step - loss: 0.0578 - acc: 0.9601\n",
      "Epoch 53/75\n",
      "38560/38560 [==============================] - 8s 197us/step - loss: 0.0561 - acc: 0.9616\n",
      "Epoch 54/75\n",
      "38560/38560 [==============================] - 8s 197us/step - loss: 0.0553 - acc: 0.9625\n",
      "Epoch 55/75\n",
      "38560/38560 [==============================] - 8s 202us/step - loss: 0.0544 - acc: 0.9642\n",
      "Epoch 56/75\n",
      "38560/38560 [==============================] - 8s 196us/step - loss: 0.0527 - acc: 0.9650\n",
      "Epoch 57/75\n",
      "38560/38560 [==============================] - 8s 197us/step - loss: 0.0517 - acc: 0.9654\n",
      "Epoch 58/75\n",
      "38560/38560 [==============================] - 8s 203us/step - loss: 0.0504 - acc: 0.9655\n",
      "Epoch 59/75\n",
      "38560/38560 [==============================] - 8s 200us/step - loss: 0.0496 - acc: 0.9672\n",
      "Epoch 60/75\n",
      "38560/38560 [==============================] - 8s 206us/step - loss: 0.0491 - acc: 0.9678\n",
      "Epoch 61/75\n",
      "38560/38560 [==============================] - 8s 202us/step - loss: 0.0476 - acc: 0.9684 0s - loss: 0.04\n",
      "Epoch 62/75\n",
      "38560/38560 [==============================] - 8s 197us/step - loss: 0.0470 - acc: 0.9678\n",
      "Epoch 63/75\n",
      "38560/38560 [==============================] - 8s 203us/step - loss: 0.0463 - acc: 0.9697\n",
      "Epoch 64/75\n",
      "38560/38560 [==============================] - 8s 199us/step - loss: 0.0449 - acc: 0.9696\n",
      "Epoch 65/75\n",
      "38560/38560 [==============================] - 8s 205us/step - loss: 0.0441 - acc: 0.9711\n",
      "Epoch 66/75\n",
      "38560/38560 [==============================] - 8s 200us/step - loss: 0.0436 - acc: 0.9711\n",
      "Epoch 67/75\n",
      "38560/38560 [==============================] - 8s 200us/step - loss: 0.0427 - acc: 0.9719 1s - los\n",
      "Epoch 68/75\n",
      "38560/38560 [==============================] - 8s 205us/step - loss: 0.0419 - acc: 0.9717 1\n",
      "Epoch 69/75\n",
      "38560/38560 [==============================] - 8s 199us/step - loss: 0.0414 - acc: 0.9728 1s - loss: 0.0405  - ETA: 1s - l\n",
      "Epoch 70/75\n",
      "38560/38560 [==============================] - 8s 206us/step - loss: 0.0405 - acc: 0.9726\n",
      "Epoch 71/75\n",
      "38560/38560 [==============================] - 8s 202us/step - loss: 0.0399 - acc: 0.9735\n",
      "Epoch 72/75\n",
      "38560/38560 [==============================] - 8s 199us/step - loss: 0.0398 - acc: 0.9737\n",
      "Epoch 73/75\n",
      "38560/38560 [==============================] - 8s 206us/step - loss: 0.0390 - acc: 0.9747 2s - loss: 0.0379 - a - ETA: 2s -  - ETA: 0s - loss: 0.0389 -\n",
      "Epoch 74/75\n",
      "38560/38560 [==============================] - 8s 201us/step - loss: 0.0382 - acc: 0.9752\n",
      "Epoch 75/75\n",
      "38560/38560 [==============================] - 8s 207us/step - loss: 0.0373 - acc: 0.9757\n"
     ]
    },
    {
     "data": {
      "text/plain": [
       "<keras.callbacks.History at 0x1a3a5710f0>"
      ]
     },
     "execution_count": 21,
     "metadata": {},
     "output_type": "execute_result"
    }
   ],
   "source": [
    "deepmodel.fit([train_data.user_id, train_data.isbn], train_data.user_ratings, epochs=75, verbose=1)"
   ]
  },
  {
   "cell_type": "code",
   "execution_count": 22,
   "metadata": {},
   "outputs": [
    {
     "name": "stdout",
     "output_type": "stream",
     "text": [
      "9641/9641 [==============================] - 0s 29us/step\n"
     ]
    },
    {
     "data": {
      "text/plain": [
       "[1.7863750575044048, 0.40151436574824334]"
      ]
     },
     "execution_count": 22,
     "metadata": {},
     "output_type": "execute_result"
    }
   ],
   "source": [
    "deepmodel.evaluate([test_data.user_id, test_data.isbn], test_data.user_ratings)"
   ]
  },
  {
   "cell_type": "code",
   "execution_count": 23,
   "metadata": {},
   "outputs": [],
   "source": [
    "all_isbn_list = pickle.load(open(\"all_isbn_list.pkl\",\"rb\"))"
   ]
  },
  {
   "cell_type": "code",
   "execution_count": 24,
   "metadata": {},
   "outputs": [
    {
     "data": {
      "text/html": [
       "<div>\n",
       "<style scoped>\n",
       "    .dataframe tbody tr th:only-of-type {\n",
       "        vertical-align: middle;\n",
       "    }\n",
       "\n",
       "    .dataframe tbody tr th {\n",
       "        vertical-align: top;\n",
       "    }\n",
       "\n",
       "    .dataframe thead th {\n",
       "        text-align: right;\n",
       "    }\n",
       "</style>\n",
       "<table border=\"1\" class=\"dataframe\">\n",
       "  <thead>\n",
       "    <tr style=\"text-align: right;\">\n",
       "      <th></th>\n",
       "      <th>isbn</th>\n",
       "      <th>user_id</th>\n",
       "      <th>user_ratings</th>\n",
       "    </tr>\n",
       "  </thead>\n",
       "  <tbody>\n",
       "    <tr>\n",
       "      <th>0</th>\n",
       "      <td>1</td>\n",
       "      <td>1</td>\n",
       "      <td>4.0</td>\n",
       "    </tr>\n",
       "    <tr>\n",
       "      <th>1</th>\n",
       "      <td>1</td>\n",
       "      <td>2</td>\n",
       "      <td>4.0</td>\n",
       "    </tr>\n",
       "    <tr>\n",
       "      <th>2</th>\n",
       "      <td>1</td>\n",
       "      <td>3</td>\n",
       "      <td>4.0</td>\n",
       "    </tr>\n",
       "    <tr>\n",
       "      <th>3</th>\n",
       "      <td>1</td>\n",
       "      <td>4</td>\n",
       "      <td>1.0</td>\n",
       "    </tr>\n",
       "    <tr>\n",
       "      <th>4</th>\n",
       "      <td>1</td>\n",
       "      <td>5</td>\n",
       "      <td>5.0</td>\n",
       "    </tr>\n",
       "    <tr>\n",
       "      <th>5</th>\n",
       "      <td>1</td>\n",
       "      <td>6</td>\n",
       "      <td>4.0</td>\n",
       "    </tr>\n",
       "    <tr>\n",
       "      <th>6</th>\n",
       "      <td>1</td>\n",
       "      <td>7</td>\n",
       "      <td>4.0</td>\n",
       "    </tr>\n",
       "    <tr>\n",
       "      <th>7</th>\n",
       "      <td>1</td>\n",
       "      <td>8</td>\n",
       "      <td>4.0</td>\n",
       "    </tr>\n",
       "    <tr>\n",
       "      <th>8</th>\n",
       "      <td>1</td>\n",
       "      <td>9</td>\n",
       "      <td>0.0</td>\n",
       "    </tr>\n",
       "    <tr>\n",
       "      <th>9</th>\n",
       "      <td>1</td>\n",
       "      <td>10</td>\n",
       "      <td>4.0</td>\n",
       "    </tr>\n",
       "  </tbody>\n",
       "</table>\n",
       "</div>"
      ],
      "text/plain": [
       "   isbn  user_id  user_ratings\n",
       "0     1        1           4.0\n",
       "1     1        2           4.0\n",
       "2     1        3           4.0\n",
       "3     1        4           1.0\n",
       "4     1        5           5.0\n",
       "5     1        6           4.0\n",
       "6     1        7           4.0\n",
       "7     1        8           4.0\n",
       "8     1        9           0.0\n",
       "9     1       10           4.0"
      ]
     },
     "execution_count": 24,
     "metadata": {},
     "output_type": "execute_result"
    }
   ],
   "source": [
    "reviews_dataset.head(10)"
   ]
  },
  {
   "cell_type": "code",
   "execution_count": 25,
   "metadata": {},
   "outputs": [],
   "source": [
    "deepmodel.save('deeplenarningmodel')"
   ]
  },
  {
   "cell_type": "code",
   "execution_count": 26,
   "metadata": {},
   "outputs": [],
   "source": [
    "model = load_model('deeplenarningmodel')"
   ]
  },
  {
   "cell_type": "code",
   "execution_count": 27,
   "metadata": {},
   "outputs": [],
   "source": [
    "isbn_title_dict = pickle.load(open(\"isbn_title_dict.pkl\",\"rb\"))"
   ]
  },
  {
   "cell_type": "code",
   "execution_count": 28,
   "metadata": {},
   "outputs": [],
   "source": [
    "usersbooks = pickle.load(open(\"user_books_sorted.pkl\",\"rb\"))"
   ]
  },
  {
   "cell_type": "code",
   "execution_count": 29,
   "metadata": {},
   "outputs": [],
   "source": [
    "isbns = dict((v,k) for k,v in isbn_dict.items())"
   ]
  },
  {
   "cell_type": "code",
   "execution_count": 30,
   "metadata": {},
   "outputs": [],
   "source": [
    "def top10deep(user): \n",
    "    bookratings = []\n",
    "    for book in isbns:\n",
    "        ud = user_dict[user]\n",
    "        if user not in usersbooks.keys():\n",
    "            continue\n",
    "        x = pd.Series([ud])\n",
    "        y = pd.Series([book])\n",
    "        predictions = model.predict([x, y])\n",
    "        bookratings.append([predictions[0][0],isbns[book]])\n",
    "    \n",
    "    bookratings = [item for item in bookratings if item[1] in isbn_title_dict.keys()]\n",
    "    bookratings = [item for item in bookratings if item[1] not in usersbooks[user]]   \n",
    "    bookratings.sort(key=lambda x: x[0], reverse=True)\n",
    "    return bookratings[:10]"
   ]
  },
  {
   "cell_type": "code",
   "execution_count": 31,
   "metadata": {},
   "outputs": [],
   "source": [
    "#get isbn from recommended ratings\n",
    "def top10isbn(recommendations):\n",
    "    top10_isbn = []\n",
    "    for item in recommendations:\n",
    "        item_isbn = item[1]\n",
    "        top10_isbn.append(item_isbn)\n",
    "    return top10_isbn"
   ]
  },
  {
   "cell_type": "code",
   "execution_count": 32,
   "metadata": {},
   "outputs": [
    {
     "name": "stdout",
     "output_type": "stream",
     "text": [
      "Deep learning based model recommendations books : \n",
      "ISBN : 9781453237915 Title : West with the Night\n",
      "ISBN : 9781599908755 Title : Starcross\n",
      "ISBN : 9781596431317 Title : Drawing Words and Writing Pictures\n",
      "ISBN : 9780143111597 Title : The Left Hand of Darkness\n",
      "ISBN : 9782080201331 Title : Master Photographers\n",
      "ISBN : 9780385372091 Title : Green Eggs and Ham: Read & Listen Edition\n",
      "ISBN : 9780757305603 Title : The Sleepeasy Solution\n",
      "ISBN : 9780821215517 Title : Examples\n",
      "ISBN : 9780936861579 Title : Captives of Blue Mountain\n",
      "ISBN : 9780805800586 Title : The Psychology of Learning Mathematics\n"
     ]
    }
   ],
   "source": [
    "deeplrecommended = top10deep('269235')\n",
    "isbn_recommendations = top10isbn(deeplrecommended)\n",
    "print(\"Deep learning based model recommendations books : \")\n",
    "for isbnitem in isbn_recommendations :\n",
    "    print(\"ISBN :\", str(isbnitem), \"Title :\", str(isbn_title_dict[isbnitem]))"
   ]
  },
  {
   "cell_type": "code",
   "execution_count": null,
   "metadata": {},
   "outputs": [],
   "source": []
  }
 ],
 "metadata": {
  "kernelspec": {
   "display_name": "Python 3",
   "language": "python",
   "name": "python3"
  },
  "language_info": {
   "codemirror_mode": {
    "name": "ipython",
    "version": 3
   },
   "file_extension": ".py",
   "mimetype": "text/x-python",
   "name": "python",
   "nbconvert_exporter": "python",
   "pygments_lexer": "ipython3",
   "version": "3.7.1"
  }
 },
 "nbformat": 4,
 "nbformat_minor": 2
}
